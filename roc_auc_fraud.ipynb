{
 "cells": [
  {
   "cell_type": "markdown",
   "metadata": {},
   "source": [
    "# Instructor Do: Intro to the ROC Curve and AUC\n",
    "\n",
    "In this activity, students will learn how to measure the performance of a binary classification model by fetching metrics from Keras, as well as plotting and interpreting the ROC curve and AUC."
   ]
  },
  {
   "cell_type": "code",
   "execution_count": 1,
   "metadata": {},
   "outputs": [],
   "source": [
    "# Initial imports\n",
    "import pandas as pd\n",
    "import numpy as np\n",
    "import matplotlib.pyplot as plt\n",
    "import tensorflow as tf\n",
    "from pathlib import Path\n",
    "\n",
    "%matplotlib inline"
   ]
  },
  {
   "cell_type": "markdown",
   "metadata": {},
   "source": [
    "## The Dataset\n",
    "\n",
    "The data provided for this demo contains anonymous information about `284807` credit card transactions made by European credit cardholders in September 2013.\n",
    "\n",
    "The dataset is going to be used to create a binary classification model using a deep neural network to detect fraudulent transactions. It contains nine numerical variables, which are the result of PCA transformation to protect the confidentiality of credit cardholders. Only the transaction amount can be seen as is.\n",
    "\n",
    "This dataset is an abstract of the file shared by the [Machine Learning Group](http://mlg.ulb.ac.be) of the Université Libre de Bruxelles (ULB)."
   ]
  },
  {
   "cell_type": "code",
   "execution_count": 2,
   "metadata": {},
   "outputs": [
    {
     "data": {
      "text/html": [
       "<div>\n",
       "<style scoped>\n",
       "    .dataframe tbody tr th:only-of-type {\n",
       "        vertical-align: middle;\n",
       "    }\n",
       "\n",
       "    .dataframe tbody tr th {\n",
       "        vertical-align: top;\n",
       "    }\n",
       "\n",
       "    .dataframe thead th {\n",
       "        text-align: right;\n",
       "    }\n",
       "</style>\n",
       "<table border=\"1\" class=\"dataframe\">\n",
       "  <thead>\n",
       "    <tr style=\"text-align: right;\">\n",
       "      <th></th>\n",
       "      <th>V1</th>\n",
       "      <th>V2</th>\n",
       "      <th>V3</th>\n",
       "      <th>V4</th>\n",
       "      <th>V5</th>\n",
       "      <th>V6</th>\n",
       "      <th>V7</th>\n",
       "      <th>V8</th>\n",
       "      <th>V9</th>\n",
       "      <th>Amount</th>\n",
       "      <th>Class</th>\n",
       "    </tr>\n",
       "  </thead>\n",
       "  <tbody>\n",
       "    <tr>\n",
       "      <th>0</th>\n",
       "      <td>-1.359807</td>\n",
       "      <td>-0.072781</td>\n",
       "      <td>2.536347</td>\n",
       "      <td>1.378155</td>\n",
       "      <td>-0.338321</td>\n",
       "      <td>0.462388</td>\n",
       "      <td>0.239599</td>\n",
       "      <td>0.098698</td>\n",
       "      <td>0.363787</td>\n",
       "      <td>149.62</td>\n",
       "      <td>0</td>\n",
       "    </tr>\n",
       "    <tr>\n",
       "      <th>1</th>\n",
       "      <td>1.191857</td>\n",
       "      <td>0.266151</td>\n",
       "      <td>0.166480</td>\n",
       "      <td>0.448154</td>\n",
       "      <td>0.060018</td>\n",
       "      <td>-0.082361</td>\n",
       "      <td>-0.078803</td>\n",
       "      <td>0.085102</td>\n",
       "      <td>-0.255425</td>\n",
       "      <td>2.69</td>\n",
       "      <td>0</td>\n",
       "    </tr>\n",
       "    <tr>\n",
       "      <th>2</th>\n",
       "      <td>-1.358354</td>\n",
       "      <td>-1.340163</td>\n",
       "      <td>1.773209</td>\n",
       "      <td>0.379780</td>\n",
       "      <td>-0.503198</td>\n",
       "      <td>1.800499</td>\n",
       "      <td>0.791461</td>\n",
       "      <td>0.247676</td>\n",
       "      <td>-1.514654</td>\n",
       "      <td>378.66</td>\n",
       "      <td>0</td>\n",
       "    </tr>\n",
       "    <tr>\n",
       "      <th>3</th>\n",
       "      <td>-0.966272</td>\n",
       "      <td>-0.185226</td>\n",
       "      <td>1.792993</td>\n",
       "      <td>-0.863291</td>\n",
       "      <td>-0.010309</td>\n",
       "      <td>1.247203</td>\n",
       "      <td>0.237609</td>\n",
       "      <td>0.377436</td>\n",
       "      <td>-1.387024</td>\n",
       "      <td>123.50</td>\n",
       "      <td>0</td>\n",
       "    </tr>\n",
       "    <tr>\n",
       "      <th>4</th>\n",
       "      <td>-1.158233</td>\n",
       "      <td>0.877737</td>\n",
       "      <td>1.548718</td>\n",
       "      <td>0.403034</td>\n",
       "      <td>-0.407193</td>\n",
       "      <td>0.095921</td>\n",
       "      <td>0.592941</td>\n",
       "      <td>-0.270533</td>\n",
       "      <td>0.817739</td>\n",
       "      <td>69.99</td>\n",
       "      <td>0</td>\n",
       "    </tr>\n",
       "  </tbody>\n",
       "</table>\n",
       "</div>"
      ],
      "text/plain": [
       "         V1        V2        V3        V4        V5        V6        V7  \\\n",
       "0 -1.359807 -0.072781  2.536347  1.378155 -0.338321  0.462388  0.239599   \n",
       "1  1.191857  0.266151  0.166480  0.448154  0.060018 -0.082361 -0.078803   \n",
       "2 -1.358354 -1.340163  1.773209  0.379780 -0.503198  1.800499  0.791461   \n",
       "3 -0.966272 -0.185226  1.792993 -0.863291 -0.010309  1.247203  0.237609   \n",
       "4 -1.158233  0.877737  1.548718  0.403034 -0.407193  0.095921  0.592941   \n",
       "\n",
       "         V8        V9  Amount  Class  \n",
       "0  0.098698  0.363787  149.62      0  \n",
       "1  0.085102 -0.255425    2.69      0  \n",
       "2  0.247676 -1.514654  378.66      0  \n",
       "3  0.377436 -1.387024  123.50      0  \n",
       "4 -0.270533  0.817739   69.99      0  "
      ]
     },
     "execution_count": 2,
     "metadata": {},
     "output_type": "execute_result"
    }
   ],
   "source": [
    "# Import the dataset\n",
    "# Note : This data is in the form of a principal components V1, V2 ...(to protect the customer privacy)\n",
    "# note : \n",
    "file_path = Path('../Resources/transactions.csv')\n",
    "transactions_df = pd.read_csv(file_path)\n",
    "transactions_df.head() "
   ]
  },
  {
   "cell_type": "markdown",
   "metadata": {},
   "source": [
    "## Data Preprocessing"
   ]
  },
  {
   "cell_type": "code",
   "execution_count": 3,
   "metadata": {},
   "outputs": [],
   "source": [
    "# Creating the X and y sets\n",
    "X = transactions_df.iloc[:, 0:10].values\n",
    "y = transactions_df[\"Class\"].values"
   ]
  },
  {
   "cell_type": "code",
   "execution_count": 4,
   "metadata": {},
   "outputs": [],
   "source": [
    "# Creating training, validation, and testing sets\n",
    "from sklearn.model_selection import train_test_split\n",
    "\n",
    "X_train, X_test, y_train, y_test = train_test_split(X, y, random_state=78)\n",
    "\n",
    "X_train, X_val, y_train, y_val = train_test_split(X_train, y_train, random_state=78)"
   ]
  },
  {
   "cell_type": "code",
   "execution_count": 5,
   "metadata": {},
   "outputs": [],
   "source": [
    "# Import the StandardScaler from sklearn\n",
    "from sklearn.preprocessing import StandardScaler\n",
    "\n",
    "# Scale the data\n",
    "scaler = StandardScaler().fit(X_train)\n",
    "X_train = scaler.transform(X_train)\n"
   ]
  },
  {
   "cell_type": "markdown",
   "metadata": {},
   "source": [
    "## Build and Train the Deep Learning Model"
   ]
  },
  {
   "cell_type": "markdown",
   "metadata": {},
   "source": [
    " ### Importing the Keras Modules"
   ]
  },
  {
   "cell_type": "code",
   "execution_count": 6,
   "metadata": {},
   "outputs": [],
   "source": [
    "# Import Keras modules for model creation\n",
    "from tensorflow.keras.models import Sequential\n",
    "from tensorflow.keras.layers import Dense"
   ]
  },
  {
   "cell_type": "markdown",
   "metadata": {},
   "source": [
    " ### Setting Up the Model"
   ]
  },
  {
   "cell_type": "code",
   "execution_count": 7,
   "metadata": {},
   "outputs": [],
   "source": [
    "# Model set-up\n",
    "features = 10\n",
    "nodes_layer1 = 15\n",
    "nodes_layer2 = 5\n",
    "nodes_outputlayer = 1"
   ]
  },
  {
   "cell_type": "markdown",
   "metadata": {},
   "source": [
    " ### Defining the Model's Structure"
   ]
  },
  {
   "cell_type": "code",
   "execution_count": 8,
   "metadata": {},
   "outputs": [],
   "source": [
    "# Define the LSTM RNN model\n",
    "model = Sequential()\n",
    "\n",
    "# Layer 1\n",
    "model.add(\n",
    "    Dense(\n",
    "        units=nodes_layer1, \n",
    "        input_dim = features,\n",
    "        activation='relu'\n",
    "    )\n",
    ")\n",
    "\n",
    "# Layer 2\n",
    "model.add(\n",
    "    Dense(\n",
    "        units=nodes_layer2,\n",
    "        input_dim = features,\n",
    "        activation='relu'\n",
    "    )\n",
    ")\n",
    "\n",
    "# Output layer\n",
    "model.add(\n",
    "    Dense(\n",
    "        units=nodes_outputlayer, \n",
    "        activation='sigmoid'\n",
    "    )\n",
    ")\n",
    "\n"
   ]
  },
  {
   "cell_type": "markdown",
   "metadata": {},
   "source": [
    " ### Compiling the Model"
   ]
  },
  {
   "cell_type": "code",
   "execution_count": 9,
   "metadata": {},
   "outputs": [],
   "source": [
    "# Compile the model\n",
    "# Note : we can observe the metrics as it runs\n",
    "model.compile(\n",
    "    loss='binary_crossentropy',\n",
    "    optimizer='adam',\n",
    "    metrics=[\n",
    "        'accuracy',\n",
    "        tf.keras.metrics.TruePositives(name='tp'),\n",
    "        tf.keras.metrics.TrueNegatives(name='tn'),\n",
    "        tf.keras.metrics.FalsePositives(name='fp'),\n",
    "        tf.keras.metrics.FalseNegatives(name='fn'),\n",
    "        tf.keras.metrics.Precision(name='precision'),\n",
    "        tf.keras.metrics.Recall(name='recall'),\n",
    "        tf.keras.metrics.AUC(name='auc'),\n",
    "        ],\n",
    ")"
   ]
  },
  {
   "cell_type": "code",
   "execution_count": 10,
   "metadata": {},
   "outputs": [
    {
     "name": "stdout",
     "output_type": "stream",
     "text": [
      "Model: \"sequential\"\n",
      "_________________________________________________________________\n",
      " Layer (type)                Output Shape              Param #   \n",
      "=================================================================\n",
      " dense (Dense)               (None, 15)                165       \n",
      "                                                                 \n",
      " dense_1 (Dense)             (None, 5)                 80        \n",
      "                                                                 \n",
      " dense_2 (Dense)             (None, 1)                 6         \n",
      "                                                                 \n",
      "=================================================================\n",
      "Total params: 251 (1004.00 Byte)\n",
      "Trainable params: 251 (1004.00 Byte)\n",
      "Non-trainable params: 0 (0.00 Byte)\n",
      "_________________________________________________________________\n"
     ]
    }
   ],
   "source": [
    "# Summarize the model\n",
    "model.summary()"
   ]
  },
  {
   "cell_type": "markdown",
   "metadata": {},
   "source": [
    " ### Training the Model"
   ]
  },
  {
   "cell_type": "code",
   "execution_count": 11,
   "metadata": {},
   "outputs": [
    {
     "name": "stdout",
     "output_type": "stream",
     "text": [
      "Epoch 1/50\n",
      "161/161 [==============================] - 1s 2ms/step - loss: 0.2512 - accuracy: 0.9777 - tp: 2.0000 - tn: 156630.0000 - fp: 3316.0000 - fn: 255.0000 - precision: 6.0277e-04 - recall: 0.0078 - auc: 0.1043 - val_loss: 0.1569 - val_accuracy: 0.9980 - val_tp: 0.0000e+00 - val_tn: 53297.0000 - val_fp: 0.0000e+00 - val_fn: 105.0000 - val_precision: 0.0000e+00 - val_recall: 0.0000e+00 - val_auc: 0.4148\n",
      "Epoch 2/50\n",
      "161/161 [==============================] - 0s 686us/step - loss: 0.0504 - accuracy: 0.9984 - tp: 0.0000e+00 - tn: 159944.0000 - fp: 2.0000 - fn: 257.0000 - precision: 0.0000e+00 - recall: 0.0000e+00 - auc: 0.1698 - val_loss: 0.1664 - val_accuracy: 0.9980 - val_tp: 0.0000e+00 - val_tn: 53297.0000 - val_fp: 0.0000e+00 - val_fn: 105.0000 - val_precision: 0.0000e+00 - val_recall: 0.0000e+00 - val_auc: 0.4570\n",
      "Epoch 3/50\n",
      "161/161 [==============================] - 0s 680us/step - loss: 0.0213 - accuracy: 0.9984 - tp: 1.0000 - tn: 159941.0000 - fp: 5.0000 - fn: 256.0000 - precision: 0.1667 - recall: 0.0039 - auc: 0.4551 - val_loss: 0.1829 - val_accuracy: 0.9980 - val_tp: 0.0000e+00 - val_tn: 53297.0000 - val_fp: 0.0000e+00 - val_fn: 105.0000 - val_precision: 0.0000e+00 - val_recall: 0.0000e+00 - val_auc: 0.5501\n",
      "Epoch 4/50\n",
      "161/161 [==============================] - 0s 682us/step - loss: 0.0124 - accuracy: 0.9984 - tp: 10.0000 - tn: 159939.0000 - fp: 7.0000 - fn: 247.0000 - precision: 0.5882 - recall: 0.0389 - auc: 0.7647 - val_loss: 0.1952 - val_accuracy: 0.9981 - val_tp: 5.0000 - val_tn: 53295.0000 - val_fp: 2.0000 - val_fn: 100.0000 - val_precision: 0.7143 - val_recall: 0.0476 - val_auc: 0.6603\n",
      "Epoch 5/50\n",
      "161/161 [==============================] - 0s 687us/step - loss: 0.0088 - accuracy: 0.9985 - tp: 32.0000 - tn: 159938.0000 - fp: 8.0000 - fn: 225.0000 - precision: 0.8000 - recall: 0.1245 - auc: 0.8677 - val_loss: 0.1984 - val_accuracy: 0.9983 - val_tp: 17.0000 - val_tn: 53295.0000 - val_fp: 2.0000 - val_fn: 88.0000 - val_precision: 0.8947 - val_recall: 0.1619 - val_auc: 0.6926\n",
      "Epoch 6/50\n",
      "161/161 [==============================] - 0s 692us/step - loss: 0.0070 - accuracy: 0.9988 - tp: 76.0000 - tn: 159932.0000 - fp: 14.0000 - fn: 181.0000 - precision: 0.8444 - recall: 0.2957 - auc: 0.8891 - val_loss: 0.1953 - val_accuracy: 0.9983 - val_tp: 18.0000 - val_tn: 53293.0000 - val_fp: 4.0000 - val_fn: 87.0000 - val_precision: 0.8182 - val_recall: 0.1714 - val_auc: 0.7134\n",
      "Epoch 7/50\n",
      "161/161 [==============================] - 0s 683us/step - loss: 0.0060 - accuracy: 0.9989 - tp: 96.0000 - tn: 159926.0000 - fp: 20.0000 - fn: 161.0000 - precision: 0.8276 - recall: 0.3735 - auc: 0.8992 - val_loss: 0.1851 - val_accuracy: 0.9984 - val_tp: 21.0000 - val_tn: 53293.0000 - val_fp: 4.0000 - val_fn: 84.0000 - val_precision: 0.8400 - val_recall: 0.2000 - val_auc: 0.7188\n",
      "Epoch 8/50\n",
      "161/161 [==============================] - 0s 686us/step - loss: 0.0054 - accuracy: 0.9989 - tp: 104.0000 - tn: 159924.0000 - fp: 22.0000 - fn: 153.0000 - precision: 0.8254 - recall: 0.4047 - auc: 0.9036 - val_loss: 0.1692 - val_accuracy: 0.9984 - val_tp: 26.0000 - val_tn: 53293.0000 - val_fp: 4.0000 - val_fn: 79.0000 - val_precision: 0.8667 - val_recall: 0.2476 - val_auc: 0.7326\n",
      "Epoch 9/50\n",
      "161/161 [==============================] - 0s 695us/step - loss: 0.0050 - accuracy: 0.9990 - tp: 113.0000 - tn: 159923.0000 - fp: 23.0000 - fn: 144.0000 - precision: 0.8309 - recall: 0.4397 - auc: 0.9085 - val_loss: 0.1535 - val_accuracy: 0.9986 - val_tp: 33.0000 - val_tn: 53293.0000 - val_fp: 4.0000 - val_fn: 72.0000 - val_precision: 0.8919 - val_recall: 0.3143 - val_auc: 0.7508\n",
      "Epoch 10/50\n",
      "161/161 [==============================] - 0s 681us/step - loss: 0.0047 - accuracy: 0.9990 - tp: 122.0000 - tn: 159923.0000 - fp: 23.0000 - fn: 135.0000 - precision: 0.8414 - recall: 0.4747 - auc: 0.9093 - val_loss: 0.1362 - val_accuracy: 0.9986 - val_tp: 33.0000 - val_tn: 53293.0000 - val_fp: 4.0000 - val_fn: 72.0000 - val_precision: 0.8919 - val_recall: 0.3143 - val_auc: 0.7545\n",
      "Epoch 11/50\n",
      "161/161 [==============================] - 0s 688us/step - loss: 0.0045 - accuracy: 0.9990 - tp: 123.0000 - tn: 159923.0000 - fp: 23.0000 - fn: 134.0000 - precision: 0.8425 - recall: 0.4786 - auc: 0.9136 - val_loss: 0.1208 - val_accuracy: 0.9985 - val_tp: 36.0000 - val_tn: 53285.0000 - val_fp: 12.0000 - val_fn: 69.0000 - val_precision: 0.7500 - val_recall: 0.3429 - val_auc: 0.7620\n",
      "Epoch 12/50\n",
      "161/161 [==============================] - 0s 677us/step - loss: 0.0043 - accuracy: 0.9991 - tp: 135.0000 - tn: 159922.0000 - fp: 24.0000 - fn: 122.0000 - precision: 0.8491 - recall: 0.5253 - auc: 0.9197 - val_loss: 0.1046 - val_accuracy: 0.9985 - val_tp: 39.0000 - val_tn: 53285.0000 - val_fp: 12.0000 - val_fn: 66.0000 - val_precision: 0.7647 - val_recall: 0.3714 - val_auc: 0.7693\n",
      "Epoch 13/50\n",
      "161/161 [==============================] - 0s 688us/step - loss: 0.0042 - accuracy: 0.9991 - tp: 140.0000 - tn: 159921.0000 - fp: 25.0000 - fn: 117.0000 - precision: 0.8485 - recall: 0.5447 - auc: 0.9218 - val_loss: 0.0896 - val_accuracy: 0.9984 - val_tp: 44.0000 - val_tn: 53273.0000 - val_fp: 24.0000 - val_fn: 61.0000 - val_precision: 0.6471 - val_recall: 0.4190 - val_auc: 0.7665\n",
      "Epoch 14/50\n",
      "161/161 [==============================] - 0s 684us/step - loss: 0.0041 - accuracy: 0.9992 - tp: 146.0000 - tn: 159921.0000 - fp: 25.0000 - fn: 111.0000 - precision: 0.8538 - recall: 0.5681 - auc: 0.9239 - val_loss: 0.0764 - val_accuracy: 0.9981 - val_tp: 45.0000 - val_tn: 53254.0000 - val_fp: 43.0000 - val_fn: 60.0000 - val_precision: 0.5114 - val_recall: 0.4286 - val_auc: 0.7826\n",
      "Epoch 15/50\n",
      "161/161 [==============================] - 0s 702us/step - loss: 0.0040 - accuracy: 0.9992 - tp: 148.0000 - tn: 159921.0000 - fp: 25.0000 - fn: 109.0000 - precision: 0.8555 - recall: 0.5759 - auc: 0.9222 - val_loss: 0.0696 - val_accuracy: 0.9978 - val_tp: 49.0000 - val_tn: 53233.0000 - val_fp: 64.0000 - val_fn: 56.0000 - val_precision: 0.4336 - val_recall: 0.4667 - val_auc: 0.7846\n",
      "Epoch 16/50\n",
      "161/161 [==============================] - 0s 675us/step - loss: 0.0039 - accuracy: 0.9992 - tp: 152.0000 - tn: 159921.0000 - fp: 25.0000 - fn: 105.0000 - precision: 0.8588 - recall: 0.5914 - auc: 0.9243 - val_loss: 0.0622 - val_accuracy: 0.9970 - val_tp: 52.0000 - val_tn: 53189.0000 - val_fp: 108.0000 - val_fn: 53.0000 - val_precision: 0.3250 - val_recall: 0.4952 - val_auc: 0.7853\n",
      "Epoch 17/50\n",
      "161/161 [==============================] - 0s 673us/step - loss: 0.0039 - accuracy: 0.9992 - tp: 155.0000 - tn: 159921.0000 - fp: 25.0000 - fn: 102.0000 - precision: 0.8611 - recall: 0.6031 - auc: 0.9262 - val_loss: 0.0559 - val_accuracy: 0.9962 - val_tp: 52.0000 - val_tn: 53146.0000 - val_fp: 151.0000 - val_fn: 53.0000 - val_precision: 0.2562 - val_recall: 0.4952 - val_auc: 0.7947\n",
      "Epoch 18/50\n",
      "161/161 [==============================] - 0s 682us/step - loss: 0.0038 - accuracy: 0.9992 - tp: 156.0000 - tn: 159925.0000 - fp: 21.0000 - fn: 101.0000 - precision: 0.8814 - recall: 0.6070 - auc: 0.9244 - val_loss: 0.0518 - val_accuracy: 0.9948 - val_tp: 54.0000 - val_tn: 53072.0000 - val_fp: 225.0000 - val_fn: 51.0000 - val_precision: 0.1935 - val_recall: 0.5143 - val_auc: 0.8055\n",
      "Epoch 19/50\n",
      "161/161 [==============================] - 0s 677us/step - loss: 0.0038 - accuracy: 0.9992 - tp: 157.0000 - tn: 159923.0000 - fp: 23.0000 - fn: 100.0000 - precision: 0.8722 - recall: 0.6109 - auc: 0.9244 - val_loss: 0.0481 - val_accuracy: 0.9943 - val_tp: 54.0000 - val_tn: 53044.0000 - val_fp: 253.0000 - val_fn: 51.0000 - val_precision: 0.1759 - val_recall: 0.5143 - val_auc: 0.8120\n",
      "Epoch 20/50\n",
      "161/161 [==============================] - 0s 677us/step - loss: 0.0037 - accuracy: 0.9993 - tp: 161.0000 - tn: 159923.0000 - fp: 23.0000 - fn: 96.0000 - precision: 0.8750 - recall: 0.6265 - auc: 0.9264 - val_loss: 0.0462 - val_accuracy: 0.9925 - val_tp: 57.0000 - val_tn: 52947.0000 - val_fp: 350.0000 - val_fn: 48.0000 - val_precision: 0.1400 - val_recall: 0.5429 - val_auc: 0.8284\n",
      "Epoch 21/50\n",
      "161/161 [==============================] - 0s 671us/step - loss: 0.0037 - accuracy: 0.9993 - tp: 162.0000 - tn: 159924.0000 - fp: 22.0000 - fn: 95.0000 - precision: 0.8804 - recall: 0.6304 - auc: 0.9283 - val_loss: 0.0454 - val_accuracy: 0.9906 - val_tp: 60.0000 - val_tn: 52842.0000 - val_fp: 455.0000 - val_fn: 45.0000 - val_precision: 0.1165 - val_recall: 0.5714 - val_auc: 0.8261\n",
      "Epoch 22/50\n",
      "161/161 [==============================] - 0s 675us/step - loss: 0.0036 - accuracy: 0.9992 - tp: 160.0000 - tn: 159921.0000 - fp: 25.0000 - fn: 97.0000 - precision: 0.8649 - recall: 0.6226 - auc: 0.9265 - val_loss: 0.0450 - val_accuracy: 0.9904 - val_tp: 60.0000 - val_tn: 52828.0000 - val_fp: 469.0000 - val_fn: 45.0000 - val_precision: 0.1134 - val_recall: 0.5714 - val_auc: 0.8287\n",
      "Epoch 23/50\n",
      "161/161 [==============================] - 0s 677us/step - loss: 0.0036 - accuracy: 0.9993 - tp: 160.0000 - tn: 159923.0000 - fp: 23.0000 - fn: 97.0000 - precision: 0.8743 - recall: 0.6226 - auc: 0.9266 - val_loss: 0.0458 - val_accuracy: 0.9882 - val_tp: 61.0000 - val_tn: 52713.0000 - val_fp: 584.0000 - val_fn: 44.0000 - val_precision: 0.0946 - val_recall: 0.5810 - val_auc: 0.8345\n",
      "Epoch 24/50\n",
      "161/161 [==============================] - 0s 671us/step - loss: 0.0036 - accuracy: 0.9993 - tp: 164.0000 - tn: 159923.0000 - fp: 23.0000 - fn: 93.0000 - precision: 0.8770 - recall: 0.6381 - auc: 0.9304 - val_loss: 0.0477 - val_accuracy: 0.9862 - val_tp: 64.0000 - val_tn: 52603.0000 - val_fp: 694.0000 - val_fn: 41.0000 - val_precision: 0.0844 - val_recall: 0.6095 - val_auc: 0.8437\n",
      "Epoch 25/50\n",
      "161/161 [==============================] - 0s 673us/step - loss: 0.0035 - accuracy: 0.9993 - tp: 161.0000 - tn: 159922.0000 - fp: 24.0000 - fn: 96.0000 - precision: 0.8703 - recall: 0.6265 - auc: 0.9304 - val_loss: 0.0501 - val_accuracy: 0.9851 - val_tp: 63.0000 - val_tn: 52543.0000 - val_fp: 754.0000 - val_fn: 42.0000 - val_precision: 0.0771 - val_recall: 0.6000 - val_auc: 0.8403\n",
      "Epoch 26/50\n",
      "161/161 [==============================] - 0s 678us/step - loss: 0.0035 - accuracy: 0.9992 - tp: 159.0000 - tn: 159923.0000 - fp: 23.0000 - fn: 98.0000 - precision: 0.8736 - recall: 0.6187 - auc: 0.9266 - val_loss: 0.0539 - val_accuracy: 0.9824 - val_tp: 66.0000 - val_tn: 52394.0000 - val_fp: 903.0000 - val_fn: 39.0000 - val_precision: 0.0681 - val_recall: 0.6286 - val_auc: 0.8444\n",
      "Epoch 27/50\n",
      "161/161 [==============================] - 0s 676us/step - loss: 0.0035 - accuracy: 0.9993 - tp: 163.0000 - tn: 159922.0000 - fp: 24.0000 - fn: 94.0000 - precision: 0.8717 - recall: 0.6342 - auc: 0.9267 - val_loss: 0.0529 - val_accuracy: 0.9833 - val_tp: 65.0000 - val_tn: 52444.0000 - val_fp: 853.0000 - val_fn: 40.0000 - val_precision: 0.0708 - val_recall: 0.6190 - val_auc: 0.8445\n",
      "Epoch 28/50\n",
      "161/161 [==============================] - 0s 673us/step - loss: 0.0035 - accuracy: 0.9993 - tp: 162.0000 - tn: 159922.0000 - fp: 24.0000 - fn: 95.0000 - precision: 0.8710 - recall: 0.6304 - auc: 0.9286 - val_loss: 0.0592 - val_accuracy: 0.9788 - val_tp: 69.0000 - val_tn: 52199.0000 - val_fp: 1098.0000 - val_fn: 36.0000 - val_precision: 0.0591 - val_recall: 0.6571 - val_auc: 0.8453\n",
      "Epoch 29/50\n",
      "161/161 [==============================] - 0s 694us/step - loss: 0.0035 - accuracy: 0.9993 - tp: 162.0000 - tn: 159924.0000 - fp: 22.0000 - fn: 95.0000 - precision: 0.8804 - recall: 0.6304 - auc: 0.9305 - val_loss: 0.0580 - val_accuracy: 0.9799 - val_tp: 70.0000 - val_tn: 52258.0000 - val_fp: 1039.0000 - val_fn: 35.0000 - val_precision: 0.0631 - val_recall: 0.6667 - val_auc: 0.8473\n",
      "Epoch 30/50\n",
      "161/161 [==============================] - 0s 677us/step - loss: 0.0034 - accuracy: 0.9993 - tp: 168.0000 - tn: 159923.0000 - fp: 23.0000 - fn: 89.0000 - precision: 0.8796 - recall: 0.6537 - auc: 0.9306 - val_loss: 0.0567 - val_accuracy: 0.9812 - val_tp: 68.0000 - val_tn: 52329.0000 - val_fp: 968.0000 - val_fn: 37.0000 - val_precision: 0.0656 - val_recall: 0.6476 - val_auc: 0.8471\n",
      "Epoch 31/50\n",
      "161/161 [==============================] - 0s 682us/step - loss: 0.0034 - accuracy: 0.9993 - tp: 164.0000 - tn: 159922.0000 - fp: 24.0000 - fn: 93.0000 - precision: 0.8723 - recall: 0.6381 - auc: 0.9268 - val_loss: 0.0560 - val_accuracy: 0.9810 - val_tp: 70.0000 - val_tn: 52319.0000 - val_fp: 978.0000 - val_fn: 35.0000 - val_precision: 0.0668 - val_recall: 0.6667 - val_auc: 0.8511\n",
      "Epoch 32/50\n",
      "161/161 [==============================] - 0s 674us/step - loss: 0.0034 - accuracy: 0.9993 - tp: 166.0000 - tn: 159921.0000 - fp: 25.0000 - fn: 91.0000 - precision: 0.8691 - recall: 0.6459 - auc: 0.9344 - val_loss: 0.0527 - val_accuracy: 0.9830 - val_tp: 67.0000 - val_tn: 52425.0000 - val_fp: 872.0000 - val_fn: 38.0000 - val_precision: 0.0714 - val_recall: 0.6381 - val_auc: 0.8474\n",
      "Epoch 33/50\n",
      "161/161 [==============================] - 0s 680us/step - loss: 0.0034 - accuracy: 0.9993 - tp: 168.0000 - tn: 159920.0000 - fp: 26.0000 - fn: 89.0000 - precision: 0.8660 - recall: 0.6537 - auc: 0.9325 - val_loss: 0.0505 - val_accuracy: 0.9846 - val_tp: 67.0000 - val_tn: 52511.0000 - val_fp: 786.0000 - val_fn: 38.0000 - val_precision: 0.0785 - val_recall: 0.6381 - val_auc: 0.8529\n",
      "Epoch 34/50\n",
      "161/161 [==============================] - 0s 674us/step - loss: 0.0034 - accuracy: 0.9993 - tp: 166.0000 - tn: 159923.0000 - fp: 23.0000 - fn: 91.0000 - precision: 0.8783 - recall: 0.6459 - auc: 0.9307 - val_loss: 0.0520 - val_accuracy: 0.9837 - val_tp: 69.0000 - val_tn: 52465.0000 - val_fp: 832.0000 - val_fn: 36.0000 - val_precision: 0.0766 - val_recall: 0.6571 - val_auc: 0.8524\n",
      "Epoch 35/50\n",
      "161/161 [==============================] - 0s 673us/step - loss: 0.0034 - accuracy: 0.9993 - tp: 165.0000 - tn: 159925.0000 - fp: 21.0000 - fn: 92.0000 - precision: 0.8871 - recall: 0.6420 - auc: 0.9326 - val_loss: 0.0494 - val_accuracy: 0.9858 - val_tp: 68.0000 - val_tn: 52576.0000 - val_fp: 721.0000 - val_fn: 37.0000 - val_precision: 0.0862 - val_recall: 0.6476 - val_auc: 0.8487\n",
      "Epoch 36/50\n",
      "161/161 [==============================] - 0s 679us/step - loss: 0.0034 - accuracy: 0.9993 - tp: 165.0000 - tn: 159922.0000 - fp: 24.0000 - fn: 92.0000 - precision: 0.8730 - recall: 0.6420 - auc: 0.9345 - val_loss: 0.0493 - val_accuracy: 0.9859 - val_tp: 67.0000 - val_tn: 52580.0000 - val_fp: 717.0000 - val_fn: 38.0000 - val_precision: 0.0855 - val_recall: 0.6381 - val_auc: 0.8480\n",
      "Epoch 37/50\n",
      "161/161 [==============================] - 0s 676us/step - loss: 0.0034 - accuracy: 0.9993 - tp: 164.0000 - tn: 159920.0000 - fp: 26.0000 - fn: 93.0000 - precision: 0.8632 - recall: 0.6381 - auc: 0.9345 - val_loss: 0.0497 - val_accuracy: 0.9857 - val_tp: 68.0000 - val_tn: 52573.0000 - val_fp: 724.0000 - val_fn: 37.0000 - val_precision: 0.0859 - val_recall: 0.6476 - val_auc: 0.8483\n",
      "Epoch 38/50\n",
      "161/161 [==============================] - 0s 674us/step - loss: 0.0033 - accuracy: 0.9993 - tp: 168.0000 - tn: 159921.0000 - fp: 25.0000 - fn: 89.0000 - precision: 0.8705 - recall: 0.6537 - auc: 0.9345 - val_loss: 0.0486 - val_accuracy: 0.9866 - val_tp: 69.0000 - val_tn: 52619.0000 - val_fp: 678.0000 - val_fn: 36.0000 - val_precision: 0.0924 - val_recall: 0.6571 - val_auc: 0.8499\n",
      "Epoch 39/50\n",
      "161/161 [==============================] - 0s 677us/step - loss: 0.0034 - accuracy: 0.9993 - tp: 161.0000 - tn: 159923.0000 - fp: 23.0000 - fn: 96.0000 - precision: 0.8750 - recall: 0.6265 - auc: 0.9326 - val_loss: 0.0472 - val_accuracy: 0.9888 - val_tp: 65.0000 - val_tn: 52739.0000 - val_fp: 558.0000 - val_fn: 40.0000 - val_precision: 0.1043 - val_recall: 0.6190 - val_auc: 0.8432\n",
      "Epoch 40/50\n",
      "161/161 [==============================] - 0s 681us/step - loss: 0.0033 - accuracy: 0.9993 - tp: 168.0000 - tn: 159921.0000 - fp: 25.0000 - fn: 89.0000 - precision: 0.8705 - recall: 0.6537 - auc: 0.9346 - val_loss: 0.0490 - val_accuracy: 0.9870 - val_tp: 68.0000 - val_tn: 52639.0000 - val_fp: 658.0000 - val_fn: 37.0000 - val_precision: 0.0937 - val_recall: 0.6476 - val_auc: 0.8521\n",
      "Epoch 41/50\n",
      "161/161 [==============================] - 0s 681us/step - loss: 0.0033 - accuracy: 0.9993 - tp: 170.0000 - tn: 159919.0000 - fp: 27.0000 - fn: 87.0000 - precision: 0.8629 - recall: 0.6615 - auc: 0.9345 - val_loss: 0.0484 - val_accuracy: 0.9881 - val_tp: 67.0000 - val_tn: 52702.0000 - val_fp: 595.0000 - val_fn: 38.0000 - val_precision: 0.1012 - val_recall: 0.6381 - val_auc: 0.8487\n",
      "Epoch 42/50\n",
      "161/161 [==============================] - 0s 677us/step - loss: 0.0033 - accuracy: 0.9993 - tp: 171.0000 - tn: 159921.0000 - fp: 25.0000 - fn: 86.0000 - precision: 0.8724 - recall: 0.6654 - auc: 0.9346 - val_loss: 0.0472 - val_accuracy: 0.9891 - val_tp: 66.0000 - val_tn: 52756.0000 - val_fp: 541.0000 - val_fn: 39.0000 - val_precision: 0.1087 - val_recall: 0.6286 - val_auc: 0.8488\n",
      "Epoch 43/50\n",
      "161/161 [==============================] - 0s 693us/step - loss: 0.0033 - accuracy: 0.9993 - tp: 167.0000 - tn: 159923.0000 - fp: 23.0000 - fn: 90.0000 - precision: 0.8789 - recall: 0.6498 - auc: 0.9326 - val_loss: 0.0498 - val_accuracy: 0.9885 - val_tp: 67.0000 - val_tn: 52723.0000 - val_fp: 574.0000 - val_fn: 38.0000 - val_precision: 0.1045 - val_recall: 0.6381 - val_auc: 0.8467\n",
      "Epoch 44/50\n",
      "161/161 [==============================] - 0s 678us/step - loss: 0.0033 - accuracy: 0.9993 - tp: 169.0000 - tn: 159920.0000 - fp: 26.0000 - fn: 88.0000 - precision: 0.8667 - recall: 0.6576 - auc: 0.9365 - val_loss: 0.0504 - val_accuracy: 0.9874 - val_tp: 68.0000 - val_tn: 52659.0000 - val_fp: 638.0000 - val_fn: 37.0000 - val_precision: 0.0963 - val_recall: 0.6476 - val_auc: 0.8489\n",
      "Epoch 45/50\n",
      "161/161 [==============================] - 0s 678us/step - loss: 0.0033 - accuracy: 0.9993 - tp: 168.0000 - tn: 159919.0000 - fp: 27.0000 - fn: 89.0000 - precision: 0.8615 - recall: 0.6537 - auc: 0.9347 - val_loss: 0.0530 - val_accuracy: 0.9872 - val_tp: 70.0000 - val_tn: 52647.0000 - val_fp: 650.0000 - val_fn: 35.0000 - val_precision: 0.0972 - val_recall: 0.6667 - val_auc: 0.8498\n",
      "Epoch 46/50\n",
      "161/161 [==============================] - 0s 681us/step - loss: 0.0032 - accuracy: 0.9993 - tp: 170.0000 - tn: 159919.0000 - fp: 27.0000 - fn: 87.0000 - precision: 0.8629 - recall: 0.6615 - auc: 0.9365 - val_loss: 0.0518 - val_accuracy: 0.9892 - val_tp: 70.0000 - val_tn: 52756.0000 - val_fp: 541.0000 - val_fn: 35.0000 - val_precision: 0.1146 - val_recall: 0.6667 - val_auc: 0.8486\n",
      "Epoch 47/50\n",
      "161/161 [==============================] - 0s 677us/step - loss: 0.0032 - accuracy: 0.9993 - tp: 168.0000 - tn: 159926.0000 - fp: 20.0000 - fn: 89.0000 - precision: 0.8936 - recall: 0.6537 - auc: 0.9288 - val_loss: 0.0555 - val_accuracy: 0.9869 - val_tp: 70.0000 - val_tn: 52634.0000 - val_fp: 663.0000 - val_fn: 35.0000 - val_precision: 0.0955 - val_recall: 0.6667 - val_auc: 0.8490\n",
      "Epoch 48/50\n",
      "161/161 [==============================] - 0s 779us/step - loss: 0.0032 - accuracy: 0.9993 - tp: 175.0000 - tn: 159919.0000 - fp: 27.0000 - fn: 82.0000 - precision: 0.8663 - recall: 0.6809 - auc: 0.9344 - val_loss: 0.0528 - val_accuracy: 0.9903 - val_tp: 65.0000 - val_tn: 52820.0000 - val_fp: 477.0000 - val_fn: 40.0000 - val_precision: 0.1199 - val_recall: 0.6190 - val_auc: 0.8369\n",
      "Epoch 49/50\n",
      "161/161 [==============================] - 0s 678us/step - loss: 0.0032 - accuracy: 0.9993 - tp: 173.0000 - tn: 159920.0000 - fp: 26.0000 - fn: 84.0000 - precision: 0.8693 - recall: 0.6732 - auc: 0.9384 - val_loss: 0.0525 - val_accuracy: 0.9914 - val_tp: 62.0000 - val_tn: 52883.0000 - val_fp: 414.0000 - val_fn: 43.0000 - val_precision: 0.1303 - val_recall: 0.5905 - val_auc: 0.8366\n",
      "Epoch 50/50\n",
      "161/161 [==============================] - 0s 679us/step - loss: 0.0032 - accuracy: 0.9993 - tp: 172.0000 - tn: 159920.0000 - fp: 26.0000 - fn: 85.0000 - precision: 0.8687 - recall: 0.6693 - auc: 0.9327 - val_loss: 0.0546 - val_accuracy: 0.9898 - val_tp: 65.0000 - val_tn: 52794.0000 - val_fp: 503.0000 - val_fn: 40.0000 - val_precision: 0.1144 - val_recall: 0.6190 - val_auc: 0.8365\n"
     ]
    }
   ],
   "source": [
    "# Training the model\n",
    "# to better the model, we could have added more epochs, could add more layers, \n",
    "# changeing activation functions for diff layer\n",
    "# we can use diff optimization \n",
    "\n",
    "batch_size = 1000 # how many rows of data is fed to the model \n",
    "epochs = 50\n",
    "training_history = model.fit(\n",
    "    X_train,\n",
    "    y_train,\n",
    "    validation_data=(X_val, y_val), # random rows selected for validation\n",
    "    epochs=epochs,\n",
    "    batch_size=batch_size,\n",
    "    verbose=1,\n",
    ")\n"
   ]
  },
  {
   "cell_type": "code",
   "execution_count": 12,
   "metadata": {},
   "outputs": [
    {
     "data": {
      "text/plain": [
       "[0.15688671171665192,\n",
       " 0.1664244830608368,\n",
       " 0.18285788595676422,\n",
       " 0.1951972395181656,\n",
       " 0.19838601350784302,\n",
       " 0.1952783614397049,\n",
       " 0.18514405190944672,\n",
       " 0.16915512084960938,\n",
       " 0.15346793830394745,\n",
       " 0.1361897587776184,\n",
       " 0.12083788961172104,\n",
       " 0.10456254333257675,\n",
       " 0.08963286131620407,\n",
       " 0.07637075334787369,\n",
       " 0.06964710354804993,\n",
       " 0.0621771477162838,\n",
       " 0.05588628724217415,\n",
       " 0.05176381394267082,\n",
       " 0.04814644157886505,\n",
       " 0.04619356617331505,\n",
       " 0.04544691741466522,\n",
       " 0.04498019814491272,\n",
       " 0.04582494497299194,\n",
       " 0.04774519056081772,\n",
       " 0.05006685107946396,\n",
       " 0.053850989788770676,\n",
       " 0.05287810042500496,\n",
       " 0.05922645702958107,\n",
       " 0.05800122022628784,\n",
       " 0.056670598685741425,\n",
       " 0.05596578121185303,\n",
       " 0.05270959436893463,\n",
       " 0.05047536641359329,\n",
       " 0.05200058966875076,\n",
       " 0.049429889768362045,\n",
       " 0.049329955130815506,\n",
       " 0.04972602427005768,\n",
       " 0.048599161207675934,\n",
       " 0.04723755270242691,\n",
       " 0.04903619363903999,\n",
       " 0.04835524037480354,\n",
       " 0.04717855155467987,\n",
       " 0.04979432374238968,\n",
       " 0.05039500072598457,\n",
       " 0.053033266216516495,\n",
       " 0.05175287649035454,\n",
       " 0.055525507777929306,\n",
       " 0.052766989916563034,\n",
       " 0.05247378349304199,\n",
       " 0.05455252528190613]"
      ]
     },
     "execution_count": 12,
     "metadata": {},
     "output_type": "execute_result"
    }
   ],
   "source": [
    "### training_history.history.epochs\n",
    "training_history.history['val_loss']\n"
   ]
  },
  {
   "cell_type": "markdown",
   "metadata": {},
   "source": [
    "### Model Performance"
   ]
  },
  {
   "cell_type": "markdown",
   "metadata": {},
   "source": [
    "#### Checking Training History"
   ]
  },
  {
   "cell_type": "code",
   "execution_count": 13,
   "metadata": {},
   "outputs": [
    {
     "data": {
      "text/plain": [
       "<Axes: title={'center': 'Loss'}, xlabel='Epoch'>"
      ]
     },
     "execution_count": 13,
     "metadata": {},
     "output_type": "execute_result"
    },
    {
     "data": {
      "image/png": "[encoded data removed]",
      "text/plain": [
       "<Figure size 640x480 with 1 Axes>"
      ]
     },
     "metadata": {},
     "output_type": "display_data"
    }
   ],
   "source": [
    "# Plotting loss\n",
    "loss_df = pd.DataFrame(\n",
    "    {\n",
    "        \"Epoch\": range(1, epochs + 1),\n",
    "        \"Train\": training_history.history[\"loss\"],\n",
    "        \"Val\": training_history.history[\"val_loss\"],\n",
    "    }\n",
    ")\n",
    "loss_df.set_index(\"Epoch\", inplace=True)\n",
    "loss_df.plot(title=\"Loss\")"
   ]
  },
  {
   "cell_type": "code",
   "execution_count": 14,
   "metadata": {},
   "outputs": [
    {
     "data": {
      "text/plain": [
       "<Axes: title={'center': 'Accuracy'}, xlabel='Epoch'>"
      ]
     },
     "execution_count": 14,
     "metadata": {},
     "output_type": "execute_result"
    },
    {
     "data": {
      "image/png": "[encoded data removed]",
      "text/plain": [
       "<Figure size 640x480 with 1 Axes>"
      ]
     },
     "metadata": {},
     "output_type": "display_data"
    }
   ],
   "source": [
    "# Plotting accuracy\n",
    "# Cloassification\n",
    "# it has a pretty high accuracy, this shows that the model is over fit on the validation data.\n",
    "# it is binary classification data and it has imbalanced classes, hence it is has a high accuracy\n",
    "# we can check Imbalance data, precession, recall, sensitivity, specificity. \n",
    "# Just accuracy is not good enough here.\n",
    "# In what way is it wrong or right.\n",
    "\n",
    "accuracy_df = pd.DataFrame(\n",
    "    {\n",
    "        \"Epoch\": range(1, epochs + 1),\n",
    "        \"Train\": training_history.history[\"accuracy\"],\n",
    "        \"Val\": training_history.history[\"val_accuracy\"],\n",
    "    }\n",
    ")\n",
    "accuracy_df.set_index(\"Epoch\", inplace=True)\n",
    "accuracy_df.plot(title=\"Accuracy\")"
   ]
  },
  {
   "cell_type": "code",
   "execution_count": 15,
   "metadata": {},
   "outputs": [
    {
     "data": {
      "text/plain": [
       "<Axes: title={'center': 'AUC'}, xlabel='Epoch'>"
      ]
     },
     "execution_count": 15,
     "metadata": {},
     "output_type": "execute_result"
    },
    {
     "data": {
      "image/png": "[encoded data removed]",
      "text/plain": [
       "<Figure size 640x480 with 1 Axes>"
      ]
     },
     "metadata": {},
     "output_type": "display_data"
    }
   ],
   "source": [
    "# Plotting AUC\n",
    "\n",
    "auc_df = pd.DataFrame(\n",
    "    {\n",
    "        \"Epoch\": range(1, epochs + 1),\n",
    "        \"Train\": training_history.history[\"auc\"],\n",
    "        \"Val\": training_history.history[\"val_auc\"],\n",
    "    }\n",
    ")\n",
    "auc_df.set_index(\"Epoch\", inplace=True)\n",
    "auc_df.plot(title=\"AUC\")"
   ]
  },
  {
   "cell_type": "markdown",
   "metadata": {},
   "source": [
    "#### Plotting the ROC Curve"
   ]
  },
  {
   "cell_type": "code",
   "execution_count": 62,
   "metadata": {},
   "outputs": [],
   "source": [
    "# Import the roc_curve and auc metrics from sklearn\n",
    "from sklearn.metrics import roc_auc_score \n"
   ]
  },
  {
   "cell_type": "code",
   "execution_count": 63,
   "metadata": {},
   "outputs": [],
   "source": [
    "# Making predictions to feed the roc_curve module\n",
    "train_predictions = model.predict(X_train, batch_size=1000)\n",
    "test_predictions = model.predict(X_test, batch_size=1000)"
   ]
  },
  {
   "cell_type": "code",
   "execution_count": 67,
   "metadata": {},
   "outputs": [
    {
     "name": "stdout",
     "output_type": "stream",
     "text": [
      "0.9773\n",
      "0.7634\n"
     ]
    }
   ],
   "source": [
    "# Calculate the ROC curve and AUC for the training set\n",
    "# notes fpr = false positive rate, tpr = tru positive rate\n",
    "# as we sweep throught the thresholds what happens to the fpr and tpr\n",
    "fpr_train, tpr_train, thresholds_train = roc_curve(y_train, train_predictions)\n",
    "auc_train = auc(fpr_train, tpr_train)\n",
    "auc_train = round(auc_train, 4)\n",
    "print(auc_train)\n",
    "\n",
    "# Calculate the ROC curve and AUC for the testing set\n",
    "fpr_test, tpr_test, thresholds_test = roc_curve(y_test, test_predictions)\n",
    "auc_test = round(auc(fpr_test, tpr_test), 4) \n",
    "print(auc_test)\n"
   ]
  },
  {
   "cell_type": "code",
   "execution_count": 73,
   "metadata": {},
   "outputs": [
    {
     "name": "stdout",
     "output_type": "stream",
     "text": [
      "       FPR Train  TPR Train\n",
      "0       0.000000   0.000000\n",
      "1       0.000000   0.003891\n",
      "2       0.000006   0.003891\n",
      "3       0.000094   0.474708\n",
      "4       0.000094   0.509728\n",
      "...          ...        ...\n",
      "13601   0.998506   1.000000\n",
      "13602   0.998518   1.000000\n",
      "13603   0.998525   1.000000\n",
      "13604   0.998537   1.000000\n",
      "13605   1.000000   1.000000\n",
      "\n",
      "[13606 rows x 2 columns]\n",
      "      FPR Test  TPR Test\n",
      "0     0.000000  0.000000\n",
      "1     0.000014  0.000000\n",
      "2     0.000014  0.007692\n",
      "3     0.000028  0.007692\n",
      "4     0.000872  0.338462\n",
      "...        ...       ...\n",
      "4456  0.981413  0.961538\n",
      "4457  0.981526  0.961538\n",
      "4458  0.981554  0.961538\n",
      "4459  0.981582  0.961538\n",
      "4460  1.000000  1.000000\n",
      "\n",
      "[4461 rows x 2 columns]\n"
     ]
    }
   ],
   "source": [
    "# Create a DataFrame with the fpr and tpr results\n",
    "\n",
    "roc_df_train = pd.DataFrame({'FPR Train' : fpr_train, 'TPR Train' : tpr_train})\n",
    "roc_df_test = pd.DataFrame({'FPR Test' : fpr_test, 'TPR Test' : tpr_test})\n",
    "\n",
    "print(roc_df_train)\n",
    "print(roc_df_test)"
   ]
  },
  {
   "cell_type": "code",
   "execution_count": 87,
   "metadata": {},
   "outputs": [
    {
     "data": {
      "text/plain": [
       "<AxesSubplot:title={'center':'Test ROC Curve AUC = 0.7634'}, xlabel='FPR Test'>"
      ]
     },
     "execution_count": 87,
     "metadata": {},
     "output_type": "execute_result"
    },
    {
     "data": {
      "image/png": "[encoded data removed]",
      "text/plain": [
       "<Figure size 432x288 with 1 Axes>"
      ]
     },
     "metadata": {
      "needs_background": "light"
     },
     "output_type": "display_data"
    },
    {
     "data": {
      "image/png": "[encoded data removed]",
      "text/plain": [
       "<Figure size 432x288 with 1 Axes>"
      ]
     },
     "metadata": {
      "needs_background": "light"
     },
     "output_type": "display_data"
    }
   ],
   "source": [
    "# Plotting the ROC Curves\n",
    "roc_df_train.plot(\n",
    "    x='FPR Train',\n",
    "    y='TPR Train',\n",
    "    xlim=([-0.05, 1.05]),\n",
    "    title = f\"Train ROC Curve AUC = {auc_train}\"\n",
    ")\n",
    "\n",
    "\n",
    "roc_df_test.plot(\n",
    "    x='FPR Test',\n",
    "    y='TPR Test',\n",
    "    title = f'Test ROC Curve AUC = {auc_test}'\n",
    ")\n",
    "\n",
    "\n"
   ]
  },
  {
   "cell_type": "markdown",
   "metadata": {},
   "source": [
    "#### Evaluate the Model"
   ]
  },
  {
   "cell_type": "code",
   "execution_count": 95,
   "metadata": {},
   "outputs": [
    {
     "name": "stdout",
     "output_type": "stream",
     "text": [
      "['loss', 'accuracy', 'tp', 'tn', 'fp', 'fn', 'precision', 'recall', 'auc']\n",
      "[0.04369543120265007, 0.9964467287063599, 60.0, 70889.0, 183.0, 70.0, 0.2469135820865631, 0.4615384638309479, 0.7883561849594116]\n"
     ]
    },
    {
     "data": {
      "text/plain": [
       "{'loss': 0.04369543120265007,\n",
       " 'accuracy': 0.9964467287063599,\n",
       " 'tp': 60.0,\n",
       " 'tn': 70889.0,\n",
       " 'fp': 183.0,\n",
       " 'fn': 70.0,\n",
       " 'precision': 0.2469135820865631,\n",
       " 'recall': 0.4615384638309479,\n",
       " 'auc': 0.7883561849594116}"
      ]
     },
     "metadata": {},
     "output_type": "display_data"
    }
   ],
   "source": [
    "# Evaluate the model\n",
    "scores = model.evaluate(X_test, y_test, verbose=0)\n",
    "\n",
    "print(model.metrics_names)\n",
    "print(scores)\n",
    "\n",
    "# Define metrics dictionary\n",
    "metrics = {k: v for k, v in zip(model.metrics_names, scores)}\n",
    "\n",
    "# Display evaluation metrics results\n",
    "display(metrics)\n"
   ]
  },
  {
   "cell_type": "markdown",
   "metadata": {},
   "source": [
    "#### Confusion Matrix"
   ]
  },
  {
   "cell_type": "code",
   "execution_count": 104,
   "metadata": {},
   "outputs": [
    {
     "data": {
      "text/html": [
       "<div>\n",
       "<style scoped>\n",
       "    .dataframe tbody tr th:only-of-type {\n",
       "        vertical-align: middle;\n",
       "    }\n",
       "\n",
       "    .dataframe tbody tr th {\n",
       "        vertical-align: top;\n",
       "    }\n",
       "\n",
       "    .dataframe thead th {\n",
       "        text-align: right;\n",
       "    }\n",
       "</style>\n",
       "<table border=\"1\" class=\"dataframe\">\n",
       "  <thead>\n",
       "    <tr style=\"text-align: right;\">\n",
       "      <th>Predicted</th>\n",
       "      <th>Positive (1)</th>\n",
       "      <th>Negative (0)</th>\n",
       "    </tr>\n",
       "    <tr>\n",
       "      <th>Actual</th>\n",
       "      <th></th>\n",
       "      <th></th>\n",
       "    </tr>\n",
       "  </thead>\n",
       "  <tbody>\n",
       "    <tr>\n",
       "      <th>Positive (1)</th>\n",
       "      <td>{60.0}</td>\n",
       "      <td>{183.0}</td>\n",
       "    </tr>\n",
       "    <tr>\n",
       "      <th>Negative(0)</th>\n",
       "      <td>{70.0}</td>\n",
       "      <td>{70889.0}</td>\n",
       "    </tr>\n",
       "  </tbody>\n",
       "</table>\n",
       "</div>"
      ],
      "text/plain": [
       "Predicted    Positive (1) Negative (0)\n",
       "Actual                                \n",
       "Positive (1)       {60.0}      {183.0}\n",
       "Negative(0)        {70.0}    {70889.0}"
      ]
     },
     "execution_count": 104,
     "metadata": {},
     "output_type": "execute_result"
    }
   ],
   "source": [
    "# Define the confusion matrix data\n",
    "\n",
    "cm_df = pd.DataFrame(\n",
    "    {\n",
    "        'Positive (1)' : [ {metrics['tp']}, {metrics['fn']} ],\n",
    "        'Negative (0)' : [ {metrics['fp']}, {metrics['tn']} ] \n",
    "\n",
    "    },\n",
    "    index = ['Positive (1)' , 'Negative(0)'],\n",
    ")\n",
    "\n",
    "cm_df.index.name = 'Actual'\n",
    "cm_df.columns.name = 'Predicted'\n",
    "\n",
    "# Show the confusion matrix\n",
    "cm_df"
   ]
  },
  {
   "cell_type": "markdown",
   "metadata": {},
   "source": [
    "#### Classification Report"
   ]
  },
  {
   "cell_type": "code",
   "execution_count": 108,
   "metadata": {},
   "outputs": [
    {
     "name": "stdout",
     "output_type": "stream",
     "text": [
      "              precision    recall  f1-score   support\n",
      "\n",
      "           0       1.00      1.00      1.00     70959\n",
      "           1       0.46      0.25      0.32       243\n",
      "\n",
      "    accuracy                           1.00     71202\n",
      "   macro avg       0.73      0.62      0.66     71202\n",
      "weighted avg       1.00      1.00      1.00     71202\n",
      "\n"
     ]
    }
   ],
   "source": [
    "# Import the classification_report method from sklearn\n",
    "from sklearn.metrics import classification_report\n",
    "\n",
    "# Predict classes using testing data\n",
    "y_predict_classes = (model.predict(X_test) > 0.5).astype('int32')\n",
    "\n",
    "# Display classification report\n",
    "print(classification_report(y_predict_classes, y_test))"
   ]
  }
 ],
 "metadata": {
  "file_extension": ".py",
  "kernelspec": {
   "display_name": "Python 3.9.17 ('dev')",
   "language": "python",
   "name": "python3"
  },
  "language_info": {
   "codemirror_mode": {
    "name": "ipython",
    "version": 3
   },
   "file_extension": ".py",
   "mimetype": "text/x-python",
   "name": "python",
   "nbconvert_exporter": "python",
   "pygments_lexer": "ipython3",
   "version": "3.9.17"
  },
  "mimetype": "text/x-python",
  "name": "python",
  "npconvert_exporter": "python",
  "pygments_lexer": "ipython3",
  "version": 3,
  "vscode": {
   "interpreter": {
    "hash": "caeb93e0c684d3bd81d88b6578a6aeba546c7425658c4217d79fa0d92d9f2865"
   }
  }
 },
 "nbformat": 4,
 "nbformat_minor": 4
}
